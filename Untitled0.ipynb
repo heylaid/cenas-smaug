{
  "nbformat": 4,
  "nbformat_minor": 0,
  "metadata": {
    "colab": {
      "provenance": [],
      "authorship_tag": "ABX9TyNgBq0a1/iDAfZSamXeMDdl",
      "include_colab_link": true
    },
    "kernelspec": {
      "name": "python3",
      "display_name": "Python 3"
    },
    "language_info": {
      "name": "python"
    }
  },
  "cells": [
    {
      "cell_type": "markdown",
      "metadata": {
        "id": "view-in-github",
        "colab_type": "text"
      },
      "source": [
        "<a href=\"https://colab.research.google.com/github/heylaid/cenas-smaug/blob/main/Untitled0.ipynb\" target=\"_parent\"><img src=\"https://colab.research.google.com/assets/colab-badge.svg\" alt=\"Open In Colab\"/></a>"
      ]
    },
    {
      "cell_type": "code",
      "execution_count": null,
      "metadata": {
        "id": "kUWDiWrJVIOW",
        "outputId": "2c265af0-c0de-4d36-aef4-d2a3ae7f9dae",
        "colab": {
          "base_uri": "https://localhost:8080/"
        }
      },
      "outputs": [
        {
          "output_type": "error",
          "ename": "IndentationError",
          "evalue": "ignored",
          "traceback": [
            "\u001b[0;36m  File \u001b[0;32m\"<tokenize>\"\u001b[0;36m, line \u001b[0;32m51\u001b[0m\n\u001b[0;31m    ia \"Mais um dia maravilhosos concluído! Já posso sentir o cheiro do sucesso emanando de você!\"\u001b[0m\n\u001b[0m    ^\u001b[0m\n\u001b[0;31mIndentationError\u001b[0m\u001b[0;31m:\u001b[0m unindent does not match any outer indentation level\n"
          ]
        }
      ],
      "source": [
        "elif tramporandom == \"telemarketing\":\n",
        "                    #$ salario = renpy.random.randint(1300, 1600)\n",
        "                    #Aqui faz o codigo do telemarketing\n",
        "\n",
        "if dia == 1:\n",
        "                        scene telemarketing\n",
        "                        show principal[x] in left\n",
        "\n",
        "                        narrator \"É seu primeiro dia, você será atendente SAC.\"\n",
        "                        pause 0.5\n",
        "\n",
        "                        for i in range(2):\n",
        "\n",
        "                            if i == 1\n",
        "                              #tirar dúvida do código com a amanda\n",
        "\n",
        "                              # principal aparece na direita\n",
        "                                show principal normal at right\n",
        "\n",
        "                                #atende sua primeira ligação\n",
        "                                show clientemultilaser[renpy.random.randint(0,6)] at left\n",
        "\n",
        "                                # diálogo\n",
        "                                principal \"Central de Relacionamento, Multilaser! Bom dia, como posso te ajudar?\"\n",
        "                                clientemultilaser \"Olá, então comprei um mouse e ele parou de funcionar\"\n",
        "                                principal \"Certo! Vou fazer algumas perguntas padrões, para descobrirmos o que ocorreu e seguir com a melhor forma de garantia. O produto sofreu queda ou teve contato com água?\"\n",
        "                                clientemultilaser \"Não, inclusive já fiz os testes do site, e ele continua sem funcionar.\"\n",
        "                                principal \"Ok, lamento que isto tenha ocorrido com seu mouse, mas pode ficar tranquilo pois seguiremos com a troca expressa, onde seu produto será substituído por um novo!\"\n",
        "                                clientemultilaser \"Perfeito, muito obrigado! Tenha um ótimo dia.\"\n",
        "                                hide clientemultilaser\n",
        "\n",
        "\n",
        "                                # principal aparece na esquerda\n",
        "                                show principal normal at left\n",
        "\n",
        "                                #atende sua terceira ligação do dia\n",
        "                                show clientemultilaserputo[renpy.random.randint(0,6)] at right\n",
        "\n",
        "                                # diálogo\n",
        "                                principal \"Central de Relacionamento, Multilaser! Bom dia, como posso ajudar?\"\n",
        "                                clientemultilaserputo \"Péssimo dia, escuta aqui, comprei o tablet de vocês à 3 meses para dar pra minha filha e a bateria desta porcaria, inchou tanto que está a ponto de explodir, e aí vai fazer o que?\"\n",
        "                                principal f\"Ok senhor, pode ficar tranquilo pois...\"\n",
        "                                clientemultilaserputo \"Tranquilo??? Como você me quer tranquilo com uma situação dessas, eu quero meu dinheiro de volta!\"\n",
        "                                principal \"Senhor, peço que mantenha a calma pois estou tentando auxiliá-lo.\"\n",
        "                                clientemultilaserputo \"Já vi que aqui não vou resolver nada, pode deixar que vou no Procon e no Celso Russomano.\"\n",
        "                                principal \"Senhor...\"\n",
        "                                telefone \"tu.tu.tu.tu.tu.tu.tu\"\n",
        "                                atualizar_mental(-8)\n",
        "                                hide clientemultilaserputo\n",
        "\n",
        "                    ia \"Mais um dia maravilhosos concluído! Já posso sentir o cheiro do sucesso emanando de você!\"\n",
        "\n",
        "                   atualizar_fisica(-4)\n",
        "\n",
        "                        jump volta_pra_casa\n",
        "\n",
        "                    if dia >= 1 and dia <=4:\n",
        "                        scene telemarketing\n",
        "                        show principal[x] in left\n",
        "\n",
        "                        narrator \"É seu {i} dia, você sabe o suficiente. Agora vai atender telefone e chat!\"\n",
        "                        scene black\n",
        "                        pause 0.5\n",
        "\n",
        "                        scene sac\n",
        "                        show principal[x] in left\n",
        "\n",
        "            else:\n",
        "                label volta_pra_casa:\n",
        "    scene casa\n",
        "    show principal[3] in left\n",
        "\n",
        "    narrator \"Você volta para casa cansado e desanimado, mesmo tendo feito o seu melhor no trabalho. A situação financeira da sua família continua difícil e sua mãe precisa de tratamento médico.\"\n",
        "\n",
        "    principal \"É tão injusto... Trabalho tanto, me esforço, mas parece que nunca é o suficiente.\"\n",
        "\n",
        "    ia \"Não reclame garoto, não vê a sorte que tem de estar trabalhando e ter a oportunidade de realizar seus sonhos? Quem quer vai atrás e não reclama, se você trabalha você consegue viver e investir BASTA QUERER, AGORA VÁ DORMIR PARA TRABALHAR AMANHÃ!\"\n",
        "\n",
        "    # Atualizar variáveis do personagem (exemplo)\n",
        "    $ saude -= 5\n",
        "    $ financeiro += 10\n",
        "\n",
        "    if financeiro >= 100 and saude >= 100 and familia >= 100:\n",
        "        jump final_feliz\n",
        "    else:\n",
        "        jump continuar_jogo\n",
        "\n",
        "            \n",
        "                        \n",
        "        \"Vender Bolo de Pote\":\n",
        "            jump empreender\n",
        "\n",
        "label empreender:\n",
        "    #script da venda de bolo de pote\n",
        "\n",
        "\n",
        "label estudo:\n",
        "    # Ação a ser executada quando a opção \"terminar estudo\" for escolhida\n",
        "\n",
        "\n",
        "label subescolha_crime:\n",
        "\n",
        "    if passou_por_subescolha_clt == True:\n",
        "        jump demissao\n",
        "        \n",
        "    menu:\n",
        "        \"Roubar\":\n",
        "            # Ação a ser executada quando a opção \"Roubar\" for escolhida\n",
        "\n",
        "        \"Traficar\":\n",
        "            # Ação a ser executada quando a opção \"Traficar\" for escolhida\n"
      ]
    }
  ]
}